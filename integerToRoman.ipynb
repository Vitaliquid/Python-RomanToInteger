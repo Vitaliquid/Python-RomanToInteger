{
 "cells": [
  {
   "cell_type": "code",
   "execution_count": 3,
   "metadata": {},
   "outputs": [
    {
     "name": "stdout",
     "output_type": "stream",
     "text": [
      "The roman number for 2 is: II\n"
     ]
    }
   ],
   "source": [
    "def roman_numbers (num) :\n",
    "    if num > 3999:\n",
    "        print(\"enter number less than 3999!\")\n",
    "        return\n",
    "    value = [1000,900,500,400,100,90,50,40,10,9,5,4,1]\n",
    "    symbol = [\"M\",\"CM\",\"D\",\"CD\",\"C\",\"XD\",\"L\",\"XL\",\"X\",\"IX\",\"V\",\"IV\",\"I\"]\n",
    "    roman = \"\"\n",
    "    i = 0\n",
    "    while num>0:\n",
    "        div = num//value[i]\n",
    "        num = num%value[i]\n",
    "        while div:\n",
    "            roman = roman+symbol[i]\n",
    "            div = div-1\n",
    "        i = i+1\n",
    "    return roman\n",
    "num = int(input(\"enter an integer number:\"))\n",
    "print(\"The roman number for\",num,\"is:\", roman_numbers(num))"
   ]
  }
 ],
 "metadata": {
  "interpreter": {
   "hash": "2f225c214e61cba03683fbc55c8c48645202e001eb1798a869794811d95e1b14"
  },
  "kernelspec": {
   "display_name": "Python 3.9.5 64-bit",
   "language": "python",
   "name": "python3"
  },
  "language_info": {
   "codemirror_mode": {
    "name": "ipython",
    "version": 3
   },
   "file_extension": ".py",
   "mimetype": "text/x-python",
   "name": "python",
   "nbconvert_exporter": "python",
   "pygments_lexer": "ipython3",
   "version": "3.9.5"
  },
  "orig_nbformat": 4
 },
 "nbformat": 4,
 "nbformat_minor": 2
}
